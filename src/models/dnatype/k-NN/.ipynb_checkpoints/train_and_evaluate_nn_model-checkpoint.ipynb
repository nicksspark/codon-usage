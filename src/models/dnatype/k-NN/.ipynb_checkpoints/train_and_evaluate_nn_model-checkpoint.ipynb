{
 "cells": [
  {
   "cell_type": "code",
   "execution_count": 9,
   "metadata": {},
   "outputs": [],
   "source": [
    "import numpy as np\n",
    "import pandas as pd\n",
    "\n",
    "from keras.models import Sequential\n",
    "from keras.layers import Dense\n",
    "from keras.wrappers.scikit_learn import KerasClassifier\n",
    "\n",
    "import keras.metrics as metrics\n",
    "from sklearn.model_selection import KFold\n",
    "from sklearn.model_selection import cross_val_score\n",
    "\n",
    "from keras.utils import np_utils\n",
    "from sklearn.preprocessing import LabelEncoder"
   ]
  },
  {
   "cell_type": "code",
   "execution_count": 10,
   "metadata": {},
   "outputs": [
    {
     "data": {
      "text/plain": [
       "array([[0.000e+00, 1.654e-02, 1.203e-02, ..., 2.510e-03, 5.000e-04,\n",
       "        0.000e+00],\n",
       "       [0.000e+00, 2.714e-02, 1.357e-02, ..., 2.710e-03, 6.800e-04,\n",
       "        0.000e+00],\n",
       "       [0.000e+00, 1.974e-02, 2.180e-02, ..., 3.910e-03, 0.000e+00,\n",
       "        1.440e-03],\n",
       "       ...,\n",
       "       [1.000e+00, 1.423e-02, 3.321e-02, ..., 3.560e-03, 1.190e-03,\n",
       "        2.017e-02],\n",
       "       [0.000e+00, 1.757e-02, 2.028e-02, ..., 9.900e-04, 7.900e-04,\n",
       "        1.560e-03],\n",
       "       [1.000e+00, 1.778e-02, 3.724e-02, ..., 1.560e-03, 1.140e-03,\n",
       "        2.161e-02]])"
      ]
     },
     "execution_count": 10,
     "metadata": {},
     "output_type": "execute_result"
    }
   ],
   "source": [
    "# Load dataset \n",
    "\n",
    "full_dataset = pd.read_csv(\"/Users/nickpark/Desktop/codon-data/codon_usage.csv\", low_memory=False)\n",
    "dataset = full_dataset[full_dataset[\"DNAtype\"].eq(0) | full_dataset[\"DNAtype\"].eq(1) | full_dataset[\"DNAtype\"].eq(2)]\n",
    "\n",
    "# Remove irrelevant columns\n",
    "\n",
    "dataset = dataset.drop([\"Kingdom\", \"SpeciesID\", \"Ncodons\", \"SpeciesName\"], axis=1)\n",
    "\n",
    "# Remove weird rows\n",
    "\n",
    "dataset = dataset.apply(pd.to_numeric, errors='coerce')\n",
    "dataset = dataset[~dataset.applymap(np.isnan).any(1)]\n",
    "dataset = dataset.to_numpy(dtype='float64')\n",
    "\n",
    "dataset"
   ]
  },
  {
   "cell_type": "code",
   "execution_count": 8,
   "metadata": {},
   "outputs": [
    {
     "name": "stdout",
     "output_type": "stream",
     "text": [
      "(12980, 64)\n",
      "(12980,)\n"
     ]
    }
   ],
   "source": [
    "X = dataset[:,1:]\n",
    "y = dataset[:,0].astype('int')\n",
    "print(X.shape)\n",
    "print(y.shape)"
   ]
  },
  {
   "cell_type": "code",
   "execution_count": null,
   "metadata": {},
   "outputs": [],
   "source": [
    "# Multi-class classification with Keras\n",
    "\n",
    "# Encode class values as integers\n",
    "encoder = LabelEncoder()\n",
    "encoder.fit(y)\n",
    "encoded_Y = encoder.transform(y)\n",
    "\n",
    "# Convert integers to dummy variables (i.e. one hot encoded)\n",
    "dummy_y = np_utils.to_categorical(encoded_Y)\n",
    "\n",
    "# Define baseline model\n",
    "def baseline_model():\n",
    "\t# create model\n",
    "\tmodel = Sequential()\n",
    "\tmodel.add(Dense(15, input_dim=64, activation='relu'))\n",
    "\tmodel.add(Dense(3, activation='softmax'))\n",
    "\t# Compile model\n",
    "\tmodel.compile(loss='categorical_crossentropy', optimizer='adam', metrics=['accuracy'])\n",
    "\treturn model\n",
    "\n",
    "estimator = KerasClassifier(build_fn=baseline_model, epochs=100, batch_size=5, verbose=0)\n",
    "kfold = KFold(n_splits=5, shuffle=True)\n",
    "\n",
    "accuracies = cross_val_score(estimator, X, dummy_y, cv=kfold)\n",
    "rocs = cross_val_score(estimator, X, dummy_y, cv=kfold, scoring='roc_auc_ovr')\n",
    "macros = cross_val_score(estimator, X, dummy_y, cv=kfold, scoring='f1_macro')\n",
    "\n",
    "print(\"Accuracy:\", accuracies.mean())\n",
    "print(\"AUROC:\", rocs.mean())\n",
    "print(\"Macro F1:\", macros.mean())\n"
   ]
  },
  {
   "cell_type": "code",
   "execution_count": null,
   "metadata": {},
   "outputs": [],
   "source": []
  }
 ],
 "metadata": {
  "kernelspec": {
   "display_name": "Python 3",
   "language": "python",
   "name": "python3"
  },
  "language_info": {
   "codemirror_mode": {
    "name": "ipython",
    "version": 3
   },
   "file_extension": ".py",
   "mimetype": "text/x-python",
   "name": "python",
   "nbconvert_exporter": "python",
   "pygments_lexer": "ipython3",
   "version": "3.8.3"
  }
 },
 "nbformat": 4,
 "nbformat_minor": 4
}
