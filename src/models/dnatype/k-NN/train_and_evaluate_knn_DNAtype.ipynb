{
 "cells": [
  {
   "cell_type": "code",
   "execution_count": 1,
   "metadata": {},
   "outputs": [],
   "source": [
    "import numpy as np\n",
    "import pandas as pd\n",
    "\n",
    "from keras.utils import np_utils\n",
    "import keras.metrics as metrics\n",
    "\n",
    "from sklearn.preprocessing import LabelEncoder\n",
    "from sklearn.pipeline import Pipeline\n",
    "import sklearn.metrics\n",
    "from sklearn.metrics import roc_auc_score\n",
    "\n",
    "from sklearn.model_selection import train_test_split\n",
    "from itertools import combinations \n",
    "\n",
    "from sklearn.feature_selection import RFECV\n",
    "\n",
    "from sklearn.decomposition import PCA\n",
    "from sklearn.discriminant_analysis import LinearDiscriminantAnalysis\n",
    "from sklearn.neighbors import (KNeighborsClassifier,\n",
    "                               NeighborhoodComponentsAnalysis)\n",
    "from sklearn.pipeline import make_pipeline\n",
    "from sklearn.preprocessing import StandardScaler\n",
    "\n",
    "from sklearn.model_selection import cross_val_score"
   ]
  },
  {
   "cell_type": "code",
   "execution_count": 2,
   "metadata": {},
   "outputs": [
    {
     "data": {
      "text/plain": [
       "array([[0.000e+00, 1.654e-02, 1.203e-02, ..., 2.510e-03, 5.000e-04,\n",
       "        0.000e+00],\n",
       "       [0.000e+00, 2.714e-02, 1.357e-02, ..., 2.710e-03, 6.800e-04,\n",
       "        0.000e+00],\n",
       "       [0.000e+00, 1.974e-02, 2.180e-02, ..., 3.910e-03, 0.000e+00,\n",
       "        1.440e-03],\n",
       "       ...,\n",
       "       [1.000e+00, 1.423e-02, 3.321e-02, ..., 3.560e-03, 1.190e-03,\n",
       "        2.017e-02],\n",
       "       [0.000e+00, 1.757e-02, 2.028e-02, ..., 9.900e-04, 7.900e-04,\n",
       "        1.560e-03],\n",
       "       [1.000e+00, 1.778e-02, 3.724e-02, ..., 1.560e-03, 1.140e-03,\n",
       "        2.161e-02]])"
      ]
     },
     "execution_count": 2,
     "metadata": {},
     "output_type": "execute_result"
    }
   ],
   "source": [
    "# Load dataset \n",
    "\n",
    "full_dataset = pd.read_csv(\"/Users/nickpark/Desktop/codon-data/codon_usage.csv\", low_memory=False)\n",
    "dataset = full_dataset[full_dataset[\"DNAtype\"].eq(0) | full_dataset[\"DNAtype\"].eq(1) | full_dataset[\"DNAtype\"].eq(2)]\n",
    "\n",
    "# Remove irrelevant columns\n",
    "\n",
    "dataset = dataset.drop([\"Kingdom\", \"SpeciesID\", \"Ncodons\", \"SpeciesName\"], axis=1)\n",
    "\n",
    "# Remove weird rows\n",
    "\n",
    "dataset = dataset.apply(pd.to_numeric, errors='coerce')\n",
    "dataset = dataset[~dataset.applymap(np.isnan).any(1)]\n",
    "dataset = dataset.to_numpy(dtype='float64')\n",
    "\n",
    "dataset"
   ]
  },
  {
   "cell_type": "code",
   "execution_count": 3,
   "metadata": {},
   "outputs": [
    {
     "name": "stdout",
     "output_type": "stream",
     "text": [
      "(12980, 64)\n",
      "(12980,)\n"
     ]
    }
   ],
   "source": [
    "X = dataset[:,1:]\n",
    "y = dataset[:,0].astype('int')\n",
    "print(X.shape)\n",
    "print(y.shape)"
   ]
  },
  {
   "cell_type": "code",
   "execution_count": 4,
   "metadata": {},
   "outputs": [],
   "source": [
    "# encode class values as integers\n",
    "encoder = LabelEncoder()\n",
    "encoder.fit(y)\n",
    "encoded_Y = encoder.transform(y)\n",
    "\n",
    "# convert integers to dummy variables (i.e. one hot encoded)\n",
    "dummy_y = np_utils.to_categorical(encoded_Y)\n",
    "\n",
    "X_train, X_test, y_train, y_test = train_test_split(X, dummy_y, test_size=0.20, stratify = dummy_y)"
   ]
  },
  {
   "cell_type": "code",
   "execution_count": 5,
   "metadata": {},
   "outputs": [
    {
     "data": {
      "text/plain": [
       "0.990088341921604"
      ]
     },
     "execution_count": 5,
     "metadata": {},
     "output_type": "execute_result"
    }
   ],
   "source": [
    "classifier = KNeighborsClassifier(n_neighbors=3)\n",
    "classifier.fit(X_train, y_train)\n",
    "\n",
    "y_pred = classifier.predict(X_test)\n",
    "\n",
    "sklearn.metrics.roc_auc_score(y_test, y_pred, multi_class='ovr')"
   ]
  },
  {
   "cell_type": "code",
   "execution_count": 6,
   "metadata": {},
   "outputs": [],
   "source": [
    "# Wrapper function with 5-fold cross-validation\n",
    "\n",
    "def train_knn(X, y, k=3):\n",
    "    \n",
    "    classifier = KNeighborsClassifier(n_neighbors=k)\n",
    "    roc_scores = cross_val_score(\n",
    "        classifier,\n",
    "        X, \n",
    "        y, \n",
    "        cv=5, \n",
    "        scoring='roc_auc_ovr', \n",
    "    )\n",
    "    \n",
    "    roc_average = sum(roc_scores)/len(roc_scores)\n",
    "    \n",
    "    f1_micro_scores = cross_val_score(\n",
    "        classifier,\n",
    "        X, \n",
    "        y, \n",
    "        cv=5, \n",
    "        scoring='f1_micro', \n",
    "    )\n",
    "    \n",
    "    f1_micro_average = sum(f1_micro_scores)/len(f1_micro_scores)\n",
    "    \n",
    "    f1_macro_scores = cross_val_score(\n",
    "        classifier,\n",
    "        X, \n",
    "        y, \n",
    "        cv=5, \n",
    "        scoring='f1_macro', \n",
    "    )\n",
    "    \n",
    "    f1_macro_average = sum(f1_macro_scores)/len(f1_macro_scores)\n",
    "    \n",
    "    accuracy_scores = cross_val_score(\n",
    "        classifier,\n",
    "        X, \n",
    "        y, \n",
    "        cv=5, \n",
    "        scoring='accuracy', \n",
    "    )\n",
    "    \n",
    "    accuracy_average = sum(accuracy_scores)/len(accuracy_scores)\n",
    "    \n",
    "    return roc_average, f1_micro_average, f1_macro_average, accuracy_average"
   ]
  },
  {
   "cell_type": "code",
   "execution_count": 7,
   "metadata": {},
   "outputs": [
    {
     "name": "stdout",
     "output_type": "stream",
     "text": [
      "scores for 1 : 0.9689345611170717 0.9711093990755006 0.9360099278073882 0.9711093990755006\n",
      "scores for 2 : 0.977276270094408 0.9699537750385208 0.9351451600181878 0.9699537750385208\n",
      "scores for 3 : 0.9795064003270367 0.9713405238828967 0.9343384020978013 0.9713405238828967\n",
      "scores for 4 : 0.9805340170768375 0.9712634822804315 0.9334032084178606 0.9712634822804315\n",
      "scores for 5 : 0.982289424319239 0.9713405238828967 0.9333616670481479 0.9713405238828967\n"
     ]
    }
   ],
   "source": [
    "X = dataset[:,1:].astype('float')\n",
    "\n",
    "y = dataset[:,0].astype('str')\n",
    "\n",
    "\n",
    "# encode class values as integers\n",
    "encoder = LabelEncoder()\n",
    "encoder.fit(y)\n",
    "encoded_Y = encoder.transform(y)\n",
    "\n",
    "# convert integers to dummy variables (i.e. one hot encoded)\n",
    "dummy_y = np_utils.to_categorical(encoded_Y)\n",
    "\n",
    "for k in [1,2,3,4,5]:\n",
    "    roc_average, f1_micro_average, f1_macro_average, accuracy_average = train_knn(X, y, k=k)\n",
    "    print('scores for', k, ':', roc_average, f1_micro_average, f1_macro_average, accuracy_average)"
   ]
  },
  {
   "cell_type": "code",
   "execution_count": 8,
   "metadata": {},
   "outputs": [],
   "source": [
    "# Feature selection using PCA:\n",
    "\n",
    "def train_knn_with_pca(X, y, p=15, random_state=13):\n",
    "\n",
    "    pca = make_pipeline(\n",
    "        StandardScaler(),\n",
    "        PCA(n_components=p, random_state=random_state)\n",
    "    )\n",
    "    \n",
    "    pca.fit(X,y)\n",
    "    \n",
    "    return train_knn(pca.transform(X),y)"
   ]
  },
  {
   "cell_type": "code",
   "execution_count": 9,
   "metadata": {},
   "outputs": [
    {
     "name": "stdout",
     "output_type": "stream",
     "text": [
      "With 1 pca features, got scores of (0.643742827885795, 0.6356702619414484, 0.43847667854630357, 0.6356702619414484)\n",
      "With 2 pca features, got scores of (0.8994087431408271, 0.8926810477657936, 0.757632677102782, 0.8926810477657936)\n",
      "With 3 pca features, got scores of (0.9308779781823764, 0.9287365177195686, 0.8395822634024309, 0.9287365177195686)\n",
      "With 4 pca features, got scores of (0.9463586813121957, 0.9410631741140214, 0.8664889330919665, 0.9410631741140214)\n",
      "With 5 pca features, got scores of (0.9634375358311932, 0.9553929121725732, 0.897329166810442, 0.9553929121725732)\n",
      "With 6 pca features, got scores of (0.9695469554223017, 0.9592449922958398, 0.9089050646776045, 0.9592449922958398)\n",
      "With 7 pca features, got scores of (0.966387135645396, 0.9587057010785826, 0.9102083697213432, 0.9587057010785826)\n",
      "With 8 pca features, got scores of (0.9683478044929279, 0.9619414483821263, 0.9168320956880429, 0.9619414483821263)\n",
      "With 9 pca features, got scores of (0.9696867026916018, 0.963482280431433, 0.9208396060220461, 0.963482280431433)\n",
      "With 10 pca features, got scores of (0.9706708262526842, 0.9631741140215716, 0.9197153576803918, 0.9631741140215716)\n",
      "With 11 pca features, got scores of (0.9718148089844476, 0.9637904468412943, 0.9221931306082899, 0.9637904468412943)\n",
      "With 12 pca features, got scores of (0.9720681823622769, 0.965331278890601, 0.9249564369449834, 0.965331278890601)\n",
      "With 13 pca features, got scores of (0.9733772620204946, 0.9655624036979968, 0.9246401495366274, 0.9655624036979968)\n",
      "With 14 pca features, got scores of (0.9730383573697079, 0.9655624036979968, 0.9241613570009596, 0.9655624036979968)\n",
      "With 15 pca features, got scores of (0.9741246933817621, 0.9662557781201849, 0.9254275288998477, 0.9662557781201849)\n",
      "With 16 pca features, got scores of (0.9735410865280381, 0.9661787365177196, 0.9254719432649878, 0.9661787365177196)\n",
      "With 17 pca features, got scores of (0.9744882870808098, 0.9670261941448384, 0.9282120064242634, 0.9670261941448384)\n",
      "With 18 pca features, got scores of (0.9752680056120845, 0.9671032357473036, 0.9284665286113167, 0.9671032357473036)\n",
      "With 19 pca features, got scores of (0.9749526583688185, 0.9673343605546995, 0.9290998157729575, 0.9673343605546995)\n",
      "With 20 pca features, got scores of (0.9754479622622005, 0.9673343605546995, 0.9292310075609649, 0.9673343605546995)\n",
      "With 21 pca features, got scores of (0.9755207602800076, 0.9671802773497689, 0.9289272628075871, 0.9671802773497689)\n",
      "With 22 pca features, got scores of (0.9758681743943507, 0.9673343605546995, 0.9295032797815601, 0.9673343605546995)\n",
      "With 23 pca features, got scores of (0.9758014644172779, 0.9675654853620955, 0.9298913923248552, 0.9675654853620955)\n",
      "With 24 pca features, got scores of (0.9763016288391567, 0.9681047765793529, 0.9310074487563249, 0.9681047765793529)\n",
      "With 25 pca features, got scores of (0.9756334485471742, 0.9687211093990756, 0.9325683586403141, 0.9687211093990756)\n",
      "With 26 pca features, got scores of (0.9759165863362329, 0.9684129429892142, 0.931890256079005, 0.9684129429892142)\n",
      "With 27 pca features, got scores of (0.9755294361802997, 0.9685670261941448, 0.9312560543899838, 0.9685670261941448)\n",
      "With 28 pca features, got scores of (0.9754943478248348, 0.9687981510015409, 0.9322754061863512, 0.9687981510015409)\n",
      "With 29 pca features, got scores of (0.9753587825991097, 0.9677195685670263, 0.9297426536250573, 0.9677195685670263)\n",
      "With 30 pca features, got scores of (0.974786311154799, 0.9684129429892142, 0.9315981240222488, 0.9684129429892142)\n",
      "With 31 pca features, got scores of (0.9756005062007127, 0.9681818181818181, 0.9303786593968628, 0.9681818181818181)\n",
      "With 32 pca features, got scores of (0.9756735192921543, 0.9684129429892142, 0.9311762805629412, 0.9684129429892142)\n",
      "With 33 pca features, got scores of (0.9755762261016503, 0.9684899845916796, 0.9309108962153003, 0.9684899845916796)\n",
      "With 34 pca features, got scores of (0.9756449189272549, 0.9691833590138674, 0.9329373677686524, 0.9691833590138674)\n",
      "With 35 pca features, got scores of (0.9756897616144038, 0.9693374422187981, 0.933410716005654, 0.9693374422187981)\n",
      "With 36 pca features, got scores of (0.9753131215539927, 0.9693374422187983, 0.933171052348442, 0.9693374422187983)\n",
      "With 37 pca features, got scores of (0.9759041209930011, 0.9696456086286596, 0.9342943258982241, 0.9696456086286596)\n",
      "With 38 pca features, got scores of (0.9759433041504005, 0.9694915254237287, 0.933983359670067, 0.9694915254237287)\n",
      "With 39 pca features, got scores of (0.9759637113407618, 0.9695685670261941, 0.9343315112761339, 0.9695685670261941)\n",
      "With 40 pca features, got scores of (0.9761073434351821, 0.9697996918335902, 0.9347217476841296, 0.9697996918335902)\n",
      "With 41 pca features, got scores of (0.9760869834957255, 0.9698767334360554, 0.9349931123866544, 0.9698767334360554)\n",
      "With 42 pca features, got scores of (0.976142070246136, 0.9701848998459168, 0.9360100421317595, 0.9701848998459168)\n",
      "With 43 pca features, got scores of (0.9757130167483407, 0.9697996918335903, 0.9353367738051357, 0.9697996918335903)\n",
      "With 44 pca features, got scores of (0.9760574439605259, 0.9698767334360555, 0.9359448874248194, 0.9698767334360555)\n",
      "With 45 pca features, got scores of (0.9758751588900463, 0.9698767334360555, 0.9356615998162198, 0.9698767334360555)\n",
      "With 46 pca features, got scores of (0.9760554753358848, 0.9695685670261941, 0.9349386138258808, 0.9695685670261941)\n",
      "With 47 pca features, got scores of (0.9761487122540092, 0.9700308166409861, 0.9362571470041695, 0.9700308166409861)\n",
      "With 48 pca features, got scores of (0.976162199019916, 0.9701848998459168, 0.9363462249796255, 0.9701848998459168)\n",
      "With 49 pca features, got scores of (0.97613890805587, 0.9699537750385208, 0.9356744284749201, 0.9699537750385208)\n",
      "With 50 pca features, got scores of (0.9761999934332313, 0.9701848998459168, 0.935635841818851, 0.9701848998459168)\n",
      "With 51 pca features, got scores of (0.9762259278027043, 0.9702619414483822, 0.935921605032204, 0.9702619414483822)\n",
      "With 52 pca features, got scores of (0.9762325814599775, 0.9701848998459168, 0.9359151635155234, 0.9701848998459168)\n",
      "With 53 pca features, got scores of (0.9763495721294534, 0.9701078582434514, 0.9355400679129786, 0.9701078582434514)\n",
      "With 54 pca features, got scores of (0.976288776697019, 0.9697226502311247, 0.9346067719537171, 0.9697226502311247)\n",
      "With 55 pca features, got scores of (0.9762376645120805, 0.9696456086286596, 0.9343092142398912, 0.9696456086286596)\n",
      "With 56 pca features, got scores of (0.9762595753340945, 0.9697996918335902, 0.934723286486397, 0.9697996918335902)\n",
      "With 57 pca features, got scores of (0.9763203125828109, 0.9697226502311247, 0.9344734120891323, 0.9697226502311247)\n",
      "With 58 pca features, got scores of (0.976257402796664, 0.9697226502311247, 0.9343324626149119, 0.9697226502311247)\n",
      "With 59 pca features, got scores of (0.9762294149449688, 0.9694144838212635, 0.9334497266013854, 0.9694144838212635)\n",
      "With 60 pca features, got scores of (0.976019993056874, 0.9695685670261941, 0.9339657601080189, 0.9695685670261941)\n",
      "With 61 pca features, got scores of (0.9762713608398246, 0.9694915254237287, 0.9338247452964511, 0.9694915254237287)\n",
      "With 62 pca features, got scores of (0.9762678557549724, 0.9694144838212635, 0.9335629608326445, 0.9694144838212635)\n",
      "With 63 pca features, got scores of (0.9763022752429975, 0.9697226502311249, 0.9345695433097486, 0.9697226502311249)\n"
     ]
    }
   ],
   "source": [
    "X = dataset[:,1:].astype('float')\n",
    "\n",
    "y = dataset[:,0].astype('str')\n",
    "\n",
    "\n",
    "# encode class values as integers\n",
    "encoder = LabelEncoder()\n",
    "encoder.fit(y)\n",
    "encoded_y = encoder.transform(y)\n",
    "\n",
    "# convert integers to dummy variables (i.e. one hot encoded)\n",
    "dummy_y = np_utils.to_categorical(encoded_y)\n",
    "\n",
    "for p in range(1,64):\n",
    "    scores = train_knn_with_pca(X, y, p=p)\n",
    "    print('With', p, 'pca features, got scores of', scores)"
   ]
  },
  {
   "cell_type": "code",
   "execution_count": null,
   "metadata": {},
   "outputs": [],
   "source": []
  }
 ],
 "metadata": {
  "kernelspec": {
   "display_name": "Python 3",
   "language": "python",
   "name": "python3"
  },
  "language_info": {
   "codemirror_mode": {
    "name": "ipython",
    "version": 3
   },
   "file_extension": ".py",
   "mimetype": "text/x-python",
   "name": "python",
   "nbconvert_exporter": "python",
   "pygments_lexer": "ipython3",
   "version": "3.8.3"
  }
 },
 "nbformat": 4,
 "nbformat_minor": 4
}
